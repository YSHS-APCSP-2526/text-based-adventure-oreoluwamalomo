{
  "nbformat": 4,
  "nbformat_minor": 0,
  "metadata": {
    "colab": {
      "provenance": [],
      "include_colab_link": true
    },
    "kernelspec": {
      "name": "python3",
      "display_name": "Python 3"
    },
    "language_info": {
      "name": "python"
    }
  },
  "cells": [
    {
      "cell_type": "markdown",
      "metadata": {
        "id": "view-in-github",
        "colab_type": "text"
      },
      "source": [
        "<a href=\"https://colab.research.google.com/github/YSHS-APCSP-2526/text-based-adventure-oreoluwamalomo/blob/main/Text_Based_Adventure.ipynb\" target=\"_parent\"><img src=\"https://colab.research.google.com/assets/colab-badge.svg\" alt=\"Open In Colab\"/></a>"
      ]
    },
    {
      "cell_type": "markdown",
      "source": [
        "#Requirements for text based adventure\n",
        "1. You must have at least 2 different \"paths\" that are at least 4 decisions in length\n",
        "2. Include an element of randomness (from the random library)\n",
        "3. Include a list that is core to the text based adventure\n",
        "4. Include a function that is called within your program that includes a while loop, and a parameter that influences a conditional statement in your function.\n",
        "5. Commented Code.\n",
        "6. A [digital flowchart](https://docs.google.com/document/d/1p2k3wL6gzjYWBuWxwEQptmbbOZZNsQrthlC12SNtYgY/edit?usp=sharing) that follows accepted symbols for representing code. You can use google slides or [draw.io](https://www.drawio.com/) for the flowchart."
      ],
      "metadata": {
        "id": "zpSmche7G_jy"
      }
    },
    {
      "cell_type": "code",
      "source": [
        "def intro():\n",
        "  response = input(\"You finally got you license! Do you want to master the mountain Pass? Y or N: \")\n",
        "  return response"
      ],
      "metadata": {
        "id": "DToswc3clKpf"
      },
      "execution_count": 50,
      "outputs": []
    },
    {
      "cell_type": "code",
      "source": [
        "def main():\n",
        "  response = intro()\n",
        "  choice1(response)\n",
        "  response = carChoice(response)\n",
        "  choice2(response)\n",
        "  response = chooseHomeTurf()\n",
        "  response = choicePass(response)\n"
      ],
      "metadata": {
        "id": "LQuG-KfJlMj3"
      },
      "execution_count": 59,
      "outputs": []
    },
    {
      "cell_type": "code",
      "source": [
        "def choice1(response):\n",
        "  if response == 'Y' or 'Yes' or 'yes':\n",
        "    print(\"Great! your parents have granted you ¥1,000,000 to pick your first car \")\n",
        "  else:\n",
        "    print(\"Have fun on the bus\")"
      ],
      "metadata": {
        "id": "oATtX2AV9g6z"
      },
      "execution_count": 61,
      "outputs": []
    },
    {
      "cell_type": "code",
      "source": [
        "def carChoice(response):\n",
        "  response = input(\"You can pick from a Nissan S13, Toyota AE86, or a Honda Civic EG6: \")\n",
        "  return response"
      ],
      "metadata": {
        "id": "mkpcrxE_BprD"
      },
      "execution_count": 51,
      "outputs": []
    },
    {
      "cell_type": "code",
      "source": [
        "def choice2(response):\n",
        "  if response =='Nissan S13' or 'Toyota AE86' or 'Honda Civic EG6':\n",
        "    print(\"Ok, now you are ready to get on the mountain pass! \")\n",
        "  else:\n",
        "    print(\"Ok...\")"
      ],
      "metadata": {
        "id": "T-MhBPiWLXsg"
      },
      "execution_count": 52,
      "outputs": []
    },
    {
      "cell_type": "code",
      "source": [
        "def chooseHomeTurf():\n",
        "  response = input(\"But, before you start driving you need to choose a home course, Usui Pass, Mount Akina, or Mount Akagi. \")\n",
        "  return response"
      ],
      "metadata": {
        "id": "SP2Il8KNN43n"
      },
      "execution_count": 53,
      "outputs": []
    },
    {
      "cell_type": "code",
      "source": [
        "def choicePass(response):\n",
        "  if response =='Usui Pass':\n",
        "    print(\"Be careful! this is one of the slimmest passes in all of Gumba \")\n",
        "  else:\n",
        "    print(\"Ok..\")"
      ],
      "metadata": {
        "id": "d0zSEariPB_C"
      },
      "execution_count": 62,
      "outputs": []
    },
    {
      "cell_type": "code",
      "source": [
        "main()"
      ],
      "metadata": {
        "colab": {
          "base_uri": "https://localhost:8080/"
        },
        "id": "UOg42qsg9qZE",
        "outputId": "6cbf6329-f194-49c9-a0ac-b9cdd49cb67d"
      },
      "execution_count": 63,
      "outputs": [
        {
          "output_type": "stream",
          "name": "stdout",
          "text": [
            "You finally got you license! Do you want to master the mountain Pass? Y or N: Y\n",
            "Great! your parents have granted you ¥1,000,000 to pick your first car \n",
            "You can pick from a Nissan S13, Toyota AE86, or a Honda Civic EG6: Nissan S13\n",
            "Ok, now you are ready to get on the mountain pass! \n",
            "But, before you start driving you need to choose a home course, Usui Pass, Mount Akina, or Mount Akagi. Usui Pass\n",
            "Be careful! this is one of the slimmest passes in all of Gumba \n"
          ]
        }
      ]
    }
  ]
}